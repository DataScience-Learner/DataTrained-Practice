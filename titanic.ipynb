{
 "cells": [
  {
   "cell_type": "markdown",
   "metadata": {
    "papermill": {
     "duration": 0.043787,
     "end_time": "2020-12-30T08:33:05.940219",
     "exception": false,
     "start_time": "2020-12-30T08:33:05.896432",
     "status": "completed"
    },
    "tags": []
   },
   "source": [
    "Import the libraries and modules."
   ]
  },
  {
   "cell_type": "code",
   "execution_count": 1,
   "metadata": {
    "execution": {
     "iopub.execute_input": "2020-12-30T08:33:06.035113Z",
     "iopub.status.busy": "2020-12-30T08:33:06.034498Z",
     "iopub.status.idle": "2020-12-30T08:33:07.035837Z",
     "shell.execute_reply": "2020-12-30T08:33:07.035230Z"
    },
    "papermill": {
     "duration": 1.051238,
     "end_time": "2020-12-30T08:33:07.035952",
     "exception": false,
     "start_time": "2020-12-30T08:33:05.984714",
     "status": "completed"
    },
    "tags": []
   },
   "outputs": [],
   "source": [
    "import numpy as np \n",
    "import pandas as pd\n",
    "import matplotlib.pyplot as plt # data visualization\n",
    "import seaborn as sns # data visualization\n",
    "\n",
    "import warnings\n",
    "warnings.filterwarnings('ignore')\n",
    "\n",
    "plt.style.use('ggplot')"
   ]
  },
  {
   "cell_type": "markdown",
   "metadata": {
    "papermill": {
     "duration": 0.045088,
     "end_time": "2020-12-30T08:33:07.126332",
     "exception": false,
     "start_time": "2020-12-30T08:33:07.081244",
     "status": "completed"
    },
    "tags": []
   },
   "source": [
    "Now import train data and test data."
   ]
  },
  {
   "cell_type": "code",
   "execution_count": 2,
   "metadata": {
    "execution": {
     "iopub.execute_input": "2020-12-30T08:33:07.220200Z",
     "iopub.status.busy": "2020-12-30T08:33:07.219577Z",
     "iopub.status.idle": "2020-12-30T08:33:07.249912Z",
     "shell.execute_reply": "2020-12-30T08:33:07.248844Z"
    },
    "papermill": {
     "duration": 0.079077,
     "end_time": "2020-12-30T08:33:07.250032",
     "exception": false,
     "start_time": "2020-12-30T08:33:07.170955",
     "status": "completed"
    },
    "tags": []
   },
   "outputs": [],
   "source": [
    "train_df= pd.read_csv('Desktop/titanic_train.csv')\n",
    "test_df = pd.read_csv('Desktop/titanic_test.csv')"
   ]
  },
  {
   "cell_type": "markdown",
   "metadata": {
    "papermill": {
     "duration": 0.043698,
     "end_time": "2020-12-30T08:33:07.337854",
     "exception": false,
     "start_time": "2020-12-30T08:33:07.294156",
     "status": "completed"
    },
    "tags": []
   },
   "source": [
    "Lets make copies of train_df and test_df."
   ]
  },
  {
   "cell_type": "code",
   "execution_count": 3,
   "metadata": {
    "execution": {
     "iopub.execute_input": "2020-12-30T08:33:07.433540Z",
     "iopub.status.busy": "2020-12-30T08:33:07.432794Z",
     "iopub.status.idle": "2020-12-30T08:33:07.435281Z",
     "shell.execute_reply": "2020-12-30T08:33:07.435779Z"
    },
    "papermill": {
     "duration": 0.05222,
     "end_time": "2020-12-30T08:33:07.435918",
     "exception": false,
     "start_time": "2020-12-30T08:33:07.383698",
     "status": "completed"
    },
    "tags": []
   },
   "outputs": [],
   "source": [
    "train = train_df.copy()\n",
    "test= test_df.copy()"
   ]
  },
  {
   "cell_type": "markdown",
   "metadata": {
    "papermill": {
     "duration": 0.044338,
     "end_time": "2020-12-30T08:33:07.525494",
     "exception": false,
     "start_time": "2020-12-30T08:33:07.481156",
     "status": "completed"
    },
    "tags": []
   },
   "source": [
    "To know the information of the dataset, we use info() function. It gives information about variables, number of non-null count, datatype of each columns and memory usage."
   ]
  },
  {
   "cell_type": "code",
   "execution_count": 4,
   "metadata": {
    "execution": {
     "iopub.execute_input": "2020-12-30T08:33:07.640392Z",
     "iopub.status.busy": "2020-12-30T08:33:07.626622Z",
     "iopub.status.idle": "2020-12-30T08:33:07.644740Z",
     "shell.execute_reply": "2020-12-30T08:33:07.645249Z"
    },
    "papermill": {
     "duration": 0.074466,
     "end_time": "2020-12-30T08:33:07.645412",
     "exception": false,
     "start_time": "2020-12-30T08:33:07.570946",
     "status": "completed"
    },
    "tags": []
   },
   "outputs": [
    {
     "name": "stdout",
     "output_type": "stream",
     "text": [
      "<class 'pandas.core.frame.DataFrame'>\n",
      "RangeIndex: 891 entries, 0 to 890\n",
      "Data columns (total 12 columns):\n",
      " #   Column       Non-Null Count  Dtype  \n",
      "---  ------       --------------  -----  \n",
      " 0   PassengerId  891 non-null    int64  \n",
      " 1   Survived     891 non-null    int64  \n",
      " 2   Pclass       891 non-null    int64  \n",
      " 3   Name         891 non-null    object \n",
      " 4   Sex          891 non-null    object \n",
      " 5   Age          714 non-null    float64\n",
      " 6   SibSp        891 non-null    int64  \n",
      " 7   Parch        891 non-null    int64  \n",
      " 8   Ticket       891 non-null    object \n",
      " 9   Fare         891 non-null    float64\n",
      " 10  Cabin        204 non-null    object \n",
      " 11  Embarked     889 non-null    object \n",
      "dtypes: float64(2), int64(5), object(5)\n",
      "memory usage: 83.7+ KB\n",
      "None\n"
     ]
    }
   ],
   "source": [
    "print(train.info())"
   ]
  },
  {
   "cell_type": "code",
   "execution_count": 5,
   "metadata": {
    "execution": {
     "iopub.execute_input": "2020-12-30T08:33:07.749490Z",
     "iopub.status.busy": "2020-12-30T08:33:07.748796Z",
     "iopub.status.idle": "2020-12-30T08:33:07.752377Z",
     "shell.execute_reply": "2020-12-30T08:33:07.751819Z"
    },
    "papermill": {
     "duration": 0.060592,
     "end_time": "2020-12-30T08:33:07.752479",
     "exception": false,
     "start_time": "2020-12-30T08:33:07.691887",
     "status": "completed"
    },
    "tags": []
   },
   "outputs": [
    {
     "name": "stdout",
     "output_type": "stream",
     "text": [
      "<class 'pandas.core.frame.DataFrame'>\n",
      "RangeIndex: 891 entries, 0 to 890\n",
      "Data columns (total 12 columns):\n",
      " #   Column       Non-Null Count  Dtype  \n",
      "---  ------       --------------  -----  \n",
      " 0   PassengerId  891 non-null    int64  \n",
      " 1   Survived     891 non-null    int64  \n",
      " 2   Pclass       891 non-null    int64  \n",
      " 3   Name         891 non-null    object \n",
      " 4   Sex          891 non-null    object \n",
      " 5   Age          714 non-null    float64\n",
      " 6   SibSp        891 non-null    int64  \n",
      " 7   Parch        891 non-null    int64  \n",
      " 8   Ticket       891 non-null    object \n",
      " 9   Fare         891 non-null    float64\n",
      " 10  Cabin        204 non-null    object \n",
      " 11  Embarked     889 non-null    object \n",
      "dtypes: float64(2), int64(5), object(5)\n",
      "memory usage: 83.7+ KB\n",
      "None\n"
     ]
    }
   ],
   "source": [
    "\n",
    "print(test.info())\n"
   ]
  },
  {
   "cell_type": "markdown",
   "metadata": {
    "papermill": {
     "duration": 0.044707,
     "end_time": "2020-12-30T08:33:07.844132",
     "exception": false,
     "start_time": "2020-12-30T08:33:07.799425",
     "status": "completed"
    },
    "tags": []
   },
   "source": [
    "describe() function gives statistical details of the dataset."
   ]
  },
  {
   "cell_type": "code",
   "execution_count": 6,
   "metadata": {
    "execution": {
     "iopub.execute_input": "2020-12-30T08:33:07.946941Z",
     "iopub.status.busy": "2020-12-30T08:33:07.946092Z",
     "iopub.status.idle": "2020-12-30T08:33:07.969715Z",
     "shell.execute_reply": "2020-12-30T08:33:07.970275Z"
    },
    "papermill": {
     "duration": 0.079579,
     "end_time": "2020-12-30T08:33:07.970447",
     "exception": false,
     "start_time": "2020-12-30T08:33:07.890868",
     "status": "completed"
    },
    "tags": []
   },
   "outputs": [
    {
     "name": "stdout",
     "output_type": "stream",
     "text": [
      "       PassengerId    Survived      Pclass         Age       SibSp  \\\n",
      "count   891.000000  891.000000  891.000000  714.000000  891.000000   \n",
      "mean    446.000000    0.383838    2.308642   29.699118    0.523008   \n",
      "std     257.353842    0.486592    0.836071   14.526497    1.102743   \n",
      "min       1.000000    0.000000    1.000000    0.420000    0.000000   \n",
      "25%     223.500000    0.000000    2.000000   20.125000    0.000000   \n",
      "50%     446.000000    0.000000    3.000000   28.000000    0.000000   \n",
      "75%     668.500000    1.000000    3.000000   38.000000    1.000000   \n",
      "max     891.000000    1.000000    3.000000   80.000000    8.000000   \n",
      "\n",
      "            Parch        Fare  \n",
      "count  891.000000  891.000000  \n",
      "mean     0.381594   32.204208  \n",
      "std      0.806057   49.693429  \n",
      "min      0.000000    0.000000  \n",
      "25%      0.000000    7.910400  \n",
      "50%      0.000000   14.454200  \n",
      "75%      0.000000   31.000000  \n",
      "max      6.000000  512.329200  \n"
     ]
    }
   ],
   "source": [
    "print(train.describe())"
   ]
  },
  {
   "cell_type": "code",
   "execution_count": 7,
   "metadata": {
    "execution": {
     "iopub.execute_input": "2020-12-30T08:33:08.075420Z",
     "iopub.status.busy": "2020-12-30T08:33:08.073581Z",
     "iopub.status.idle": "2020-12-30T08:33:08.091589Z",
     "shell.execute_reply": "2020-12-30T08:33:08.092037Z"
    },
    "papermill": {
     "duration": 0.075013,
     "end_time": "2020-12-30T08:33:08.092183",
     "exception": false,
     "start_time": "2020-12-30T08:33:08.017170",
     "status": "completed"
    },
    "tags": []
   },
   "outputs": [
    {
     "name": "stdout",
     "output_type": "stream",
     "text": [
      "       PassengerId    Survived      Pclass         Age       SibSp  \\\n",
      "count   891.000000  891.000000  891.000000  714.000000  891.000000   \n",
      "mean    446.000000    0.383838    2.308642   29.699118    0.523008   \n",
      "std     257.353842    0.486592    0.836071   14.526497    1.102743   \n",
      "min       1.000000    0.000000    1.000000    0.420000    0.000000   \n",
      "25%     223.500000    0.000000    2.000000   20.125000    0.000000   \n",
      "50%     446.000000    0.000000    3.000000   28.000000    0.000000   \n",
      "75%     668.500000    1.000000    3.000000   38.000000    1.000000   \n",
      "max     891.000000    1.000000    3.000000   80.000000    8.000000   \n",
      "\n",
      "            Parch        Fare  \n",
      "count  891.000000  891.000000  \n",
      "mean     0.381594   32.204208  \n",
      "std      0.806057   49.693429  \n",
      "min      0.000000    0.000000  \n",
      "25%      0.000000    7.910400  \n",
      "50%      0.000000   14.454200  \n",
      "75%      0.000000   31.000000  \n",
      "max      6.000000  512.329200  \n"
     ]
    }
   ],
   "source": [
    "\n",
    "print(test.describe())\n"
   ]
  },
  {
   "cell_type": "markdown",
   "metadata": {
    "papermill": {
     "duration": 0.049073,
     "end_time": "2020-12-30T08:33:08.189011",
     "exception": false,
     "start_time": "2020-12-30T08:33:08.139938",
     "status": "completed"
    },
    "tags": []
   },
   "source": [
    "Lets check the null values in the dataset."
   ]
  },
  {
   "cell_type": "code",
   "execution_count": 8,
   "metadata": {
    "execution": {
     "iopub.execute_input": "2020-12-30T08:33:08.295267Z",
     "iopub.status.busy": "2020-12-30T08:33:08.294620Z",
     "iopub.status.idle": "2020-12-30T08:33:08.298501Z",
     "shell.execute_reply": "2020-12-30T08:33:08.297873Z"
    },
    "papermill": {
     "duration": 0.060468,
     "end_time": "2020-12-30T08:33:08.298611",
     "exception": false,
     "start_time": "2020-12-30T08:33:08.238143",
     "status": "completed"
    },
    "tags": []
   },
   "outputs": [
    {
     "name": "stdout",
     "output_type": "stream",
     "text": [
      "PassengerId      0\n",
      "Survived         0\n",
      "Pclass           0\n",
      "Name             0\n",
      "Sex              0\n",
      "Age            177\n",
      "SibSp            0\n",
      "Parch            0\n",
      "Ticket           0\n",
      "Fare             0\n",
      "Cabin          687\n",
      "Embarked         2\n",
      "dtype: int64\n"
     ]
    }
   ],
   "source": [
    "print(train.isnull().sum())\n"
   ]
  },
  {
   "cell_type": "code",
   "execution_count": 9,
   "metadata": {
    "execution": {
     "iopub.execute_input": "2020-12-30T08:33:08.402722Z",
     "iopub.status.busy": "2020-12-30T08:33:08.401946Z",
     "iopub.status.idle": "2020-12-30T08:33:08.405263Z",
     "shell.execute_reply": "2020-12-30T08:33:08.405823Z"
    },
    "papermill": {
     "duration": 0.058992,
     "end_time": "2020-12-30T08:33:08.405965",
     "exception": false,
     "start_time": "2020-12-30T08:33:08.346973",
     "status": "completed"
    },
    "tags": []
   },
   "outputs": [
    {
     "name": "stdout",
     "output_type": "stream",
     "text": [
      "PassengerId      0\n",
      "Survived         0\n",
      "Pclass           0\n",
      "Name             0\n",
      "Sex              0\n",
      "Age            177\n",
      "SibSp            0\n",
      "Parch            0\n",
      "Ticket           0\n",
      "Fare             0\n",
      "Cabin          687\n",
      "Embarked         2\n",
      "dtype: int64\n"
     ]
    }
   ],
   "source": [
    "print(test.isnull().sum())"
   ]
  },
  {
   "cell_type": "markdown",
   "metadata": {
    "papermill": {
     "duration": 0.04751,
     "end_time": "2020-12-30T08:33:08.502534",
     "exception": false,
     "start_time": "2020-12-30T08:33:08.455024",
     "status": "completed"
    },
    "tags": []
   },
   "source": [
    "There are null values in train dataset and test dataset.\n"
   ]
  },
  {
   "cell_type": "code",
   "execution_count": 10,
   "metadata": {
    "execution": {
     "iopub.execute_input": "2020-12-30T08:33:08.603416Z",
     "iopub.status.busy": "2020-12-30T08:33:08.602827Z",
     "iopub.status.idle": "2020-12-30T08:33:08.606683Z",
     "shell.execute_reply": "2020-12-30T08:33:08.607220Z"
    },
    "papermill": {
     "duration": 0.057822,
     "end_time": "2020-12-30T08:33:08.607369",
     "exception": false,
     "start_time": "2020-12-30T08:33:08.549547",
     "status": "completed"
    },
    "tags": []
   },
   "outputs": [
    {
     "name": "stdout",
     "output_type": "stream",
     "text": [
      "Index(['PassengerId', 'Survived', 'Pclass', 'Name', 'Sex', 'Age', 'SibSp',\n",
      "       'Parch', 'Ticket', 'Fare', 'Cabin', 'Embarked'],\n",
      "      dtype='object')\n"
     ]
    }
   ],
   "source": [
    "print(train.columns)\n"
   ]
  },
  {
   "cell_type": "code",
   "execution_count": 11,
   "metadata": {
    "execution": {
     "iopub.execute_input": "2020-12-30T08:33:08.711050Z",
     "iopub.status.busy": "2020-12-30T08:33:08.710450Z",
     "iopub.status.idle": "2020-12-30T08:33:08.714610Z",
     "shell.execute_reply": "2020-12-30T08:33:08.714088Z"
    },
    "papermill": {
     "duration": 0.058611,
     "end_time": "2020-12-30T08:33:08.714712",
     "exception": false,
     "start_time": "2020-12-30T08:33:08.656101",
     "status": "completed"
    },
    "tags": []
   },
   "outputs": [
    {
     "name": "stdout",
     "output_type": "stream",
     "text": [
      "Index(['PassengerId', 'Survived', 'Pclass', 'Name', 'Sex', 'Age', 'SibSp',\n",
      "       'Parch', 'Ticket', 'Fare', 'Cabin', 'Embarked'],\n",
      "      dtype='object')\n"
     ]
    }
   ],
   "source": [
    "print(test.columns)"
   ]
  },
  {
   "cell_type": "markdown",
   "metadata": {
    "papermill": {
     "duration": 0.049142,
     "end_time": "2020-12-30T08:33:08.813519",
     "exception": false,
     "start_time": "2020-12-30T08:33:08.764377",
     "status": "completed"
    },
    "tags": []
   },
   "source": [
    "Lets remove the variables which are not significant in this data."
   ]
  },
  {
   "cell_type": "code",
   "execution_count": 12,
   "metadata": {
    "execution": {
     "iopub.execute_input": "2020-12-30T08:33:08.927769Z",
     "iopub.status.busy": "2020-12-30T08:33:08.926980Z",
     "iopub.status.idle": "2020-12-30T08:33:08.930898Z",
     "shell.execute_reply": "2020-12-30T08:33:08.930279Z"
    },
    "papermill": {
     "duration": 0.06861,
     "end_time": "2020-12-30T08:33:08.931001",
     "exception": false,
     "start_time": "2020-12-30T08:33:08.862391",
     "status": "completed"
    },
    "tags": []
   },
   "outputs": [],
   "source": [
    "train.drop(columns=['PassengerId', 'Name', 'Ticket', 'Cabin'], axis=1, inplace=True)\n",
    "test.drop(columns= ['PassengerId', 'Name', 'Ticket', 'Cabin'], axis=1, inplace= True)\n"
   ]
  },
  {
   "cell_type": "markdown",
   "metadata": {
    "papermill": {
     "duration": 0.049741,
     "end_time": "2020-12-30T08:33:09.028974",
     "exception": false,
     "start_time": "2020-12-30T08:33:08.979233",
     "status": "completed"
    },
    "tags": []
   },
   "source": [
    "Fill the null values with mean, median or mode according to the requirements."
   ]
  },
  {
   "cell_type": "code",
   "execution_count": 13,
   "metadata": {
    "execution": {
     "iopub.execute_input": "2020-12-30T08:33:09.135475Z",
     "iopub.status.busy": "2020-12-30T08:33:09.134824Z",
     "iopub.status.idle": "2020-12-30T08:33:09.138367Z",
     "shell.execute_reply": "2020-12-30T08:33:09.137808Z"
    },
    "papermill": {
     "duration": 0.059373,
     "end_time": "2020-12-30T08:33:09.138488",
     "exception": false,
     "start_time": "2020-12-30T08:33:09.079115",
     "status": "completed"
    },
    "tags": []
   },
   "outputs": [
    {
     "data": {
      "text/plain": [
       "28.0"
      ]
     },
     "execution_count": 13,
     "metadata": {},
     "output_type": "execute_result"
    }
   ],
   "source": [
    "train['Age'].median()\n"
   ]
  },
  {
   "cell_type": "code",
   "execution_count": 14,
   "metadata": {
    "execution": {
     "iopub.execute_input": "2020-12-30T08:33:09.246231Z",
     "iopub.status.busy": "2020-12-30T08:33:09.245595Z",
     "iopub.status.idle": "2020-12-30T08:33:09.249357Z",
     "shell.execute_reply": "2020-12-30T08:33:09.248710Z"
    },
    "papermill": {
     "duration": 0.060653,
     "end_time": "2020-12-30T08:33:09.249486",
     "exception": false,
     "start_time": "2020-12-30T08:33:09.188833",
     "status": "completed"
    },
    "tags": []
   },
   "outputs": [
    {
     "data": {
      "text/plain": [
       "'S'"
      ]
     },
     "execution_count": 14,
     "metadata": {},
     "output_type": "execute_result"
    }
   ],
   "source": [
    "train['Embarked'].mode()[0]"
   ]
  },
  {
   "cell_type": "code",
   "execution_count": 15,
   "metadata": {
    "execution": {
     "iopub.execute_input": "2020-12-30T08:33:09.354218Z",
     "iopub.status.busy": "2020-12-30T08:33:09.353632Z",
     "iopub.status.idle": "2020-12-30T08:33:09.360093Z",
     "shell.execute_reply": "2020-12-30T08:33:09.360593Z"
    },
    "papermill": {
     "duration": 0.060179,
     "end_time": "2020-12-30T08:33:09.360761",
     "exception": false,
     "start_time": "2020-12-30T08:33:09.300582",
     "status": "completed"
    },
    "tags": []
   },
   "outputs": [],
   "source": [
    "train['Age'].fillna(train['Age'].median(), inplace=True)\n",
    "train['Embarked'].fillna(train['Embarked'].mode()[0], inplace=True)\n"
   ]
  },
  {
   "cell_type": "code",
   "execution_count": 16,
   "metadata": {
    "execution": {
     "iopub.execute_input": "2020-12-30T08:33:09.466084Z",
     "iopub.status.busy": "2020-12-30T08:33:09.465476Z",
     "iopub.status.idle": "2020-12-30T08:33:09.471981Z",
     "shell.execute_reply": "2020-12-30T08:33:09.472421Z"
    },
    "papermill": {
     "duration": 0.060722,
     "end_time": "2020-12-30T08:33:09.472579",
     "exception": false,
     "start_time": "2020-12-30T08:33:09.411857",
     "status": "completed"
    },
    "tags": []
   },
   "outputs": [
    {
     "name": "stdout",
     "output_type": "stream",
     "text": [
      "Survived    0\n",
      "Pclass      0\n",
      "Sex         0\n",
      "Age         0\n",
      "SibSp       0\n",
      "Parch       0\n",
      "Fare        0\n",
      "Embarked    0\n",
      "dtype: int64\n"
     ]
    }
   ],
   "source": [
    "print(train.isnull().sum())\n"
   ]
  },
  {
   "cell_type": "markdown",
   "metadata": {
    "papermill": {
     "duration": 0.050386,
     "end_time": "2020-12-30T08:33:09.574071",
     "exception": false,
     "start_time": "2020-12-30T08:33:09.523685",
     "status": "completed"
    },
    "tags": []
   },
   "source": [
    "There are no null values in train dataset\n"
   ]
  },
  {
   "cell_type": "code",
   "execution_count": 17,
   "metadata": {
    "execution": {
     "iopub.execute_input": "2020-12-30T08:33:09.684191Z",
     "iopub.status.busy": "2020-12-30T08:33:09.683561Z",
     "iopub.status.idle": "2020-12-30T08:33:09.686420Z",
     "shell.execute_reply": "2020-12-30T08:33:09.686921Z"
    },
    "papermill": {
     "duration": 0.060865,
     "end_time": "2020-12-30T08:33:09.687049",
     "exception": false,
     "start_time": "2020-12-30T08:33:09.626184",
     "status": "completed"
    },
    "tags": []
   },
   "outputs": [
    {
     "data": {
      "text/plain": [
       "28.0"
      ]
     },
     "execution_count": 17,
     "metadata": {},
     "output_type": "execute_result"
    }
   ],
   "source": [
    "test['Age'].median()\n"
   ]
  },
  {
   "cell_type": "code",
   "execution_count": 18,
   "metadata": {
    "execution": {
     "iopub.execute_input": "2020-12-30T08:33:09.793616Z",
     "iopub.status.busy": "2020-12-30T08:33:09.793046Z",
     "iopub.status.idle": "2020-12-30T08:33:09.797885Z",
     "shell.execute_reply": "2020-12-30T08:33:09.798429Z"
    },
    "papermill": {
     "duration": 0.059824,
     "end_time": "2020-12-30T08:33:09.798572",
     "exception": false,
     "start_time": "2020-12-30T08:33:09.738748",
     "status": "completed"
    },
    "tags": []
   },
   "outputs": [
    {
     "data": {
      "text/plain": [
       "14.4542"
      ]
     },
     "execution_count": 18,
     "metadata": {},
     "output_type": "execute_result"
    }
   ],
   "source": [
    "test['Fare'].median()"
   ]
  },
  {
   "cell_type": "code",
   "execution_count": 19,
   "metadata": {
    "execution": {
     "iopub.execute_input": "2020-12-30T08:33:09.912330Z",
     "iopub.status.busy": "2020-12-30T08:33:09.911432Z",
     "iopub.status.idle": "2020-12-30T08:33:09.914031Z",
     "shell.execute_reply": "2020-12-30T08:33:09.913544Z"
    },
    "papermill": {
     "duration": 0.062749,
     "end_time": "2020-12-30T08:33:09.914182",
     "exception": false,
     "start_time": "2020-12-30T08:33:09.851433",
     "status": "completed"
    },
    "tags": []
   },
   "outputs": [],
   "source": [
    "test['Age'].fillna(test['Age'].median(), inplace=True)\n",
    "test['Fare'].fillna(test['Fare'].median(), inplace=True)"
   ]
  },
  {
   "cell_type": "code",
   "execution_count": 20,
   "metadata": {
    "execution": {
     "iopub.execute_input": "2020-12-30T08:33:10.039033Z",
     "iopub.status.busy": "2020-12-30T08:33:10.038105Z",
     "iopub.status.idle": "2020-12-30T08:33:10.051262Z",
     "shell.execute_reply": "2020-12-30T08:33:10.052167Z"
    },
    "papermill": {
     "duration": 0.080943,
     "end_time": "2020-12-30T08:33:10.052378",
     "exception": false,
     "start_time": "2020-12-30T08:33:09.971435",
     "status": "completed"
    },
    "tags": []
   },
   "outputs": [
    {
     "name": "stdout",
     "output_type": "stream",
     "text": [
      "Survived    0\n",
      "Pclass      0\n",
      "Sex         0\n",
      "Age         0\n",
      "SibSp       0\n",
      "Parch       0\n",
      "Fare        0\n",
      "Embarked    2\n",
      "dtype: int64\n"
     ]
    }
   ],
   "source": [
    "print(test.isnull().sum())\n"
   ]
  },
  {
   "cell_type": "markdown",
   "metadata": {
    "papermill": {
     "duration": 0.057838,
     "end_time": "2020-12-30T08:33:10.172889",
     "exception": false,
     "start_time": "2020-12-30T08:33:10.115051",
     "status": "completed"
    },
    "tags": []
   },
   "source": [
    " There are no null values in test dataset"
   ]
  },
  {
   "cell_type": "markdown",
   "metadata": {
    "papermill": {
     "duration": 0.059548,
     "end_time": "2020-12-30T08:33:10.286594",
     "exception": false,
     "start_time": "2020-12-30T08:33:10.227046",
     "status": "completed"
    },
    "tags": []
   },
   "source": [
    "value_counts() gives count of unique values."
   ]
  },
  {
   "cell_type": "code",
   "execution_count": 21,
   "metadata": {
    "execution": {
     "iopub.execute_input": "2020-12-30T08:33:10.401713Z",
     "iopub.status.busy": "2020-12-30T08:33:10.401080Z",
     "iopub.status.idle": "2020-12-30T08:33:10.404508Z",
     "shell.execute_reply": "2020-12-30T08:33:10.405115Z"
    },
    "papermill": {
     "duration": 0.065504,
     "end_time": "2020-12-30T08:33:10.405258",
     "exception": false,
     "start_time": "2020-12-30T08:33:10.339754",
     "status": "completed"
    },
    "tags": []
   },
   "outputs": [
    {
     "data": {
      "text/plain": [
       "0    549\n",
       "1    342\n",
       "Name: Survived, dtype: int64"
      ]
     },
     "execution_count": 21,
     "metadata": {},
     "output_type": "execute_result"
    }
   ],
   "source": [
    "train['Survived'].value_counts()\n"
   ]
  },
  {
   "cell_type": "code",
   "execution_count": 22,
   "metadata": {
    "execution": {
     "iopub.execute_input": "2020-12-30T08:33:10.514717Z",
     "iopub.status.busy": "2020-12-30T08:33:10.514121Z",
     "iopub.status.idle": "2020-12-30T08:33:10.522682Z",
     "shell.execute_reply": "2020-12-30T08:33:10.523274Z"
    },
    "papermill": {
     "duration": 0.064697,
     "end_time": "2020-12-30T08:33:10.523453",
     "exception": false,
     "start_time": "2020-12-30T08:33:10.458756",
     "status": "completed"
    },
    "tags": []
   },
   "outputs": [
    {
     "data": {
      "text/plain": [
       "3    491\n",
       "1    216\n",
       "2    184\n",
       "Name: Pclass, dtype: int64"
      ]
     },
     "execution_count": 22,
     "metadata": {},
     "output_type": "execute_result"
    }
   ],
   "source": [
    "train['Pclass'].value_counts()\n"
   ]
  },
  {
   "cell_type": "code",
   "execution_count": 23,
   "metadata": {
    "execution": {
     "iopub.execute_input": "2020-12-30T08:33:10.636115Z",
     "iopub.status.busy": "2020-12-30T08:33:10.635496Z",
     "iopub.status.idle": "2020-12-30T08:33:10.647364Z",
     "shell.execute_reply": "2020-12-30T08:33:10.646878Z"
    },
    "papermill": {
     "duration": 0.070169,
     "end_time": "2020-12-30T08:33:10.647472",
     "exception": false,
     "start_time": "2020-12-30T08:33:10.577303",
     "status": "completed"
    },
    "tags": []
   },
   "outputs": [
    {
     "data": {
      "text/plain": [
       "male      577\n",
       "female    314\n",
       "Name: Sex, dtype: int64"
      ]
     },
     "execution_count": 23,
     "metadata": {},
     "output_type": "execute_result"
    }
   ],
   "source": [
    "train['Sex'].value_counts()\n"
   ]
  },
  {
   "cell_type": "code",
   "execution_count": 24,
   "metadata": {
    "execution": {
     "iopub.execute_input": "2020-12-30T08:33:10.768261Z",
     "iopub.status.busy": "2020-12-30T08:33:10.767655Z",
     "iopub.status.idle": "2020-12-30T08:33:10.770984Z",
     "shell.execute_reply": "2020-12-30T08:33:10.770460Z"
    },
    "papermill": {
     "duration": 0.069502,
     "end_time": "2020-12-30T08:33:10.771088",
     "exception": false,
     "start_time": "2020-12-30T08:33:10.701586",
     "status": "completed"
    },
    "tags": []
   },
   "outputs": [
    {
     "data": {
      "text/plain": [
       "0    608\n",
       "1    209\n",
       "2     28\n",
       "4     18\n",
       "3     16\n",
       "8      7\n",
       "5      5\n",
       "Name: SibSp, dtype: int64"
      ]
     },
     "execution_count": 24,
     "metadata": {},
     "output_type": "execute_result"
    }
   ],
   "source": [
    "train['SibSp'].value_counts()\n"
   ]
  },
  {
   "cell_type": "code",
   "execution_count": 25,
   "metadata": {
    "execution": {
     "iopub.execute_input": "2020-12-30T08:33:10.886554Z",
     "iopub.status.busy": "2020-12-30T08:33:10.885973Z",
     "iopub.status.idle": "2020-12-30T08:33:10.889404Z",
     "shell.execute_reply": "2020-12-30T08:33:10.889963Z"
    },
    "papermill": {
     "duration": 0.064526,
     "end_time": "2020-12-30T08:33:10.890097",
     "exception": false,
     "start_time": "2020-12-30T08:33:10.825571",
     "status": "completed"
    },
    "tags": []
   },
   "outputs": [
    {
     "data": {
      "text/plain": [
       "0    678\n",
       "1    118\n",
       "2     80\n",
       "5      5\n",
       "3      5\n",
       "4      4\n",
       "6      1\n",
       "Name: Parch, dtype: int64"
      ]
     },
     "execution_count": 25,
     "metadata": {},
     "output_type": "execute_result"
    }
   ],
   "source": [
    "train['Parch'].value_counts()\n"
   ]
  },
  {
   "cell_type": "code",
   "execution_count": 26,
   "metadata": {
    "execution": {
     "iopub.execute_input": "2020-12-30T08:33:11.037207Z",
     "iopub.status.busy": "2020-12-30T08:33:11.036613Z",
     "iopub.status.idle": "2020-12-30T08:33:11.041841Z",
     "shell.execute_reply": "2020-12-30T08:33:11.041341Z"
    },
    "papermill": {
     "duration": 0.085286,
     "end_time": "2020-12-30T08:33:11.041960",
     "exception": false,
     "start_time": "2020-12-30T08:33:10.956674",
     "status": "completed"
    },
    "tags": []
   },
   "outputs": [
    {
     "data": {
      "text/plain": [
       "S    646\n",
       "C    168\n",
       "Q     77\n",
       "Name: Embarked, dtype: int64"
      ]
     },
     "execution_count": 26,
     "metadata": {},
     "output_type": "execute_result"
    }
   ],
   "source": [
    "train['Embarked'].value_counts()"
   ]
  },
  {
   "cell_type": "code",
   "execution_count": 27,
   "metadata": {
    "execution": {
     "iopub.execute_input": "2020-12-30T08:33:11.163044Z",
     "iopub.status.busy": "2020-12-30T08:33:11.162069Z",
     "iopub.status.idle": "2020-12-30T08:33:11.166244Z",
     "shell.execute_reply": "2020-12-30T08:33:11.165648Z"
    },
    "papermill": {
     "duration": 0.065239,
     "end_time": "2020-12-30T08:33:11.166361",
     "exception": false,
     "start_time": "2020-12-30T08:33:11.101122",
     "status": "completed"
    },
    "tags": []
   },
   "outputs": [
    {
     "data": {
      "text/plain": [
       "3    491\n",
       "1    216\n",
       "2    184\n",
       "Name: Pclass, dtype: int64"
      ]
     },
     "execution_count": 27,
     "metadata": {},
     "output_type": "execute_result"
    }
   ],
   "source": [
    "test['Pclass'].value_counts()\n"
   ]
  },
  {
   "cell_type": "code",
   "execution_count": 28,
   "metadata": {
    "execution": {
     "iopub.execute_input": "2020-12-30T08:33:11.287052Z",
     "iopub.status.busy": "2020-12-30T08:33:11.286048Z",
     "iopub.status.idle": "2020-12-30T08:33:11.289531Z",
     "shell.execute_reply": "2020-12-30T08:33:11.290021Z"
    },
    "papermill": {
     "duration": 0.067895,
     "end_time": "2020-12-30T08:33:11.290153",
     "exception": false,
     "start_time": "2020-12-30T08:33:11.222258",
     "status": "completed"
    },
    "tags": []
   },
   "outputs": [
    {
     "data": {
      "text/plain": [
       "male      577\n",
       "female    314\n",
       "Name: Sex, dtype: int64"
      ]
     },
     "execution_count": 28,
     "metadata": {},
     "output_type": "execute_result"
    }
   ],
   "source": [
    "test['Sex'].value_counts()\n",
    "\n"
   ]
  },
  {
   "cell_type": "code",
   "execution_count": 29,
   "metadata": {
    "execution": {
     "iopub.execute_input": "2020-12-30T08:33:11.409227Z",
     "iopub.status.busy": "2020-12-30T08:33:11.408235Z",
     "iopub.status.idle": "2020-12-30T08:33:11.412544Z",
     "shell.execute_reply": "2020-12-30T08:33:11.412023Z"
    },
    "papermill": {
     "duration": 0.067012,
     "end_time": "2020-12-30T08:33:11.412649",
     "exception": false,
     "start_time": "2020-12-30T08:33:11.345637",
     "status": "completed"
    },
    "tags": []
   },
   "outputs": [
    {
     "data": {
      "text/plain": [
       "0    608\n",
       "1    209\n",
       "2     28\n",
       "4     18\n",
       "3     16\n",
       "8      7\n",
       "5      5\n",
       "Name: SibSp, dtype: int64"
      ]
     },
     "execution_count": 29,
     "metadata": {},
     "output_type": "execute_result"
    }
   ],
   "source": [
    "test['SibSp'].value_counts()\n"
   ]
  },
  {
   "cell_type": "code",
   "execution_count": 30,
   "metadata": {
    "execution": {
     "iopub.execute_input": "2020-12-30T08:33:11.532623Z",
     "iopub.status.busy": "2020-12-30T08:33:11.531879Z",
     "iopub.status.idle": "2020-12-30T08:33:11.535694Z",
     "shell.execute_reply": "2020-12-30T08:33:11.535220Z"
    },
    "papermill": {
     "duration": 0.065877,
     "end_time": "2020-12-30T08:33:11.535791",
     "exception": false,
     "start_time": "2020-12-30T08:33:11.469914",
     "status": "completed"
    },
    "tags": []
   },
   "outputs": [
    {
     "data": {
      "text/plain": [
       "0    678\n",
       "1    118\n",
       "2     80\n",
       "5      5\n",
       "3      5\n",
       "4      4\n",
       "6      1\n",
       "Name: Parch, dtype: int64"
      ]
     },
     "execution_count": 30,
     "metadata": {},
     "output_type": "execute_result"
    }
   ],
   "source": [
    "test['Parch'].value_counts()\n"
   ]
  },
  {
   "cell_type": "code",
   "execution_count": 31,
   "metadata": {
    "execution": {
     "iopub.execute_input": "2020-12-30T08:33:11.668206Z",
     "iopub.status.busy": "2020-12-30T08:33:11.667575Z",
     "iopub.status.idle": "2020-12-30T08:33:11.671631Z",
     "shell.execute_reply": "2020-12-30T08:33:11.671073Z"
    },
    "papermill": {
     "duration": 0.068476,
     "end_time": "2020-12-30T08:33:11.671732",
     "exception": false,
     "start_time": "2020-12-30T08:33:11.603256",
     "status": "completed"
    },
    "tags": []
   },
   "outputs": [
    {
     "data": {
      "text/plain": [
       "S    644\n",
       "C    168\n",
       "Q     77\n",
       "Name: Embarked, dtype: int64"
      ]
     },
     "execution_count": 31,
     "metadata": {},
     "output_type": "execute_result"
    }
   ],
   "source": [
    "test['Embarked'].value_counts()"
   ]
  },
  {
   "cell_type": "markdown",
   "metadata": {
    "papermill": {
     "duration": 0.057445,
     "end_time": "2020-12-30T08:33:11.786538",
     "exception": false,
     "start_time": "2020-12-30T08:33:11.729093",
     "status": "completed"
    },
    "tags": []
   },
   "source": [
    "Lets do Data Visualization for train dataset and test dataset"
   ]
  },
  {
   "cell_type": "code",
   "execution_count": 32,
   "metadata": {
    "execution": {
     "iopub.execute_input": "2020-12-30T08:33:11.908888Z",
     "iopub.status.busy": "2020-12-30T08:33:11.908233Z",
     "iopub.status.idle": "2020-12-30T08:33:12.070949Z",
     "shell.execute_reply": "2020-12-30T08:33:12.070292Z"
    },
    "papermill": {
     "duration": 0.227288,
     "end_time": "2020-12-30T08:33:12.071053",
     "exception": false,
     "start_time": "2020-12-30T08:33:11.843765",
     "status": "completed"
    },
    "tags": []
   },
   "outputs": [
    {
     "data": {
      "text/plain": [
       "<AxesSubplot:xlabel='Survived', ylabel='count'>"
      ]
     },
     "execution_count": 32,
     "metadata": {},
     "output_type": "execute_result"
    },
    {
     "data": {
      "image/png": "[encoded data removed]",
      "text/plain": [
       "<Figure size 576x432 with 1 Axes>"
      ]
     },
     "metadata": {},
     "output_type": "display_data"
    }
   ],
   "source": [
    "plt.figure(figsize=(8,6))\n",
    "sns.countplot(x='Survived', data= train)"
   ]
  },
  {
   "cell_type": "markdown",
   "metadata": {
    "papermill": {
     "duration": 0.058385,
     "end_time": "2020-12-30T08:33:12.189981",
     "exception": false,
     "start_time": "2020-12-30T08:33:12.131596",
     "status": "completed"
    },
    "tags": []
   },
   "source": [
    "From the above figure, we can observe that survived people are less compared to not-survived people."
   ]
  },
  {
   "cell_type": "code",
   "execution_count": 33,
   "metadata": {
    "execution": {
     "iopub.execute_input": "2020-12-30T08:33:12.315199Z",
     "iopub.status.busy": "2020-12-30T08:33:12.313873Z",
     "iopub.status.idle": "2020-12-30T08:33:12.430557Z",
     "shell.execute_reply": "2020-12-30T08:33:12.429887Z"
    },
    "papermill": {
     "duration": 0.18054,
     "end_time": "2020-12-30T08:33:12.430673",
     "exception": false,
     "start_time": "2020-12-30T08:33:12.250133",
     "status": "completed"
    },
    "tags": []
   },
   "outputs": [
    {
     "data": {
      "text/plain": [
       "<AxesSubplot:xlabel='Sex', ylabel='count'>"
      ]
     },
     "execution_count": 33,
     "metadata": {},
     "output_type": "execute_result"
    },
    {
     "data": {
      "image/png": "[encoded data removed]",
      "text/plain": [
       "<Figure size 576x432 with 1 Axes>"
      ]
     },
     "metadata": {},
     "output_type": "display_data"
    }
   ],
   "source": [
    "plt.figure(figsize=(8,6))\n",
    "sns.countplot(x='Sex', data= train)"
   ]
  },
  {
   "cell_type": "markdown",
   "metadata": {
    "papermill": {
     "duration": 0.059781,
     "end_time": "2020-12-30T08:33:12.551442",
     "exception": false,
     "start_time": "2020-12-30T08:33:12.491661",
     "status": "completed"
    },
    "tags": []
   },
   "source": [
    "males are more compared to females"
   ]
  },
  {
   "cell_type": "code",
   "execution_count": 34,
   "metadata": {
    "execution": {
     "iopub.execute_input": "2020-12-30T08:33:12.686709Z",
     "iopub.status.busy": "2020-12-30T08:33:12.678964Z",
     "iopub.status.idle": "2020-12-30T08:33:12.813407Z",
     "shell.execute_reply": "2020-12-30T08:33:12.813830Z"
    },
    "papermill": {
     "duration": 0.201556,
     "end_time": "2020-12-30T08:33:12.813961",
     "exception": false,
     "start_time": "2020-12-30T08:33:12.612405",
     "status": "completed"
    },
    "tags": []
   },
   "outputs": [
    {
     "data": {
      "text/plain": [
       "<AxesSubplot:xlabel='Survived', ylabel='count'>"
      ]
     },
     "execution_count": 34,
     "metadata": {},
     "output_type": "execute_result"
    },
    {
     "data": {
      "image/png": "[encoded data removed]",
      "text/plain": [
       "<Figure size 576x432 with 1 Axes>"
      ]
     },
     "metadata": {},
     "output_type": "display_data"
    }
   ],
   "source": [
    "plt.figure(figsize=(8,6))\n",
    "sns.countplot(x='Survived', hue='Sex', data= train)"
   ]
  },
  {
   "cell_type": "code",
   "execution_count": 35,
   "metadata": {
    "execution": {
     "iopub.execute_input": "2020-12-30T08:33:12.947405Z",
     "iopub.status.busy": "2020-12-30T08:33:12.945543Z",
     "iopub.status.idle": "2020-12-30T08:33:13.112697Z",
     "shell.execute_reply": "2020-12-30T08:33:13.113174Z"
    },
    "papermill": {
     "duration": 0.235415,
     "end_time": "2020-12-30T08:33:13.113334",
     "exception": false,
     "start_time": "2020-12-30T08:33:12.877919",
     "status": "completed"
    },
    "tags": []
   },
   "outputs": [
    {
     "data": {
      "text/plain": [
       "<AxesSubplot:xlabel='Survived', ylabel='count'>"
      ]
     },
     "execution_count": 35,
     "metadata": {},
     "output_type": "execute_result"
    },
    {
     "data": {
      "image/png": "[encoded data removed]",
      "text/plain": [
       "<Figure size 576x432 with 1 Axes>"
      ]
     },
     "metadata": {},
     "output_type": "display_data"
    }
   ],
   "source": [
    "plt.figure(figsize=(8,6))\n",
    "sns.countplot(x='Survived', hue='Pclass', data= train)"
   ]
  },
  {
   "cell_type": "code",
   "execution_count": 36,
   "metadata": {
    "execution": {
     "iopub.execute_input": "2020-12-30T08:33:13.242677Z",
     "iopub.status.busy": "2020-12-30T08:33:13.242004Z",
     "iopub.status.idle": "2020-12-30T08:33:13.443472Z",
     "shell.execute_reply": "2020-12-30T08:33:13.442787Z"
    },
    "papermill": {
     "duration": 0.267767,
     "end_time": "2020-12-30T08:33:13.443587",
     "exception": false,
     "start_time": "2020-12-30T08:33:13.175820",
     "status": "completed"
    },
    "tags": []
   },
   "outputs": [
    {
     "data": {
      "text/plain": [
       "<AxesSubplot:xlabel='Survived', ylabel='Age'>"
      ]
     },
     "execution_count": 36,
     "metadata": {},
     "output_type": "execute_result"
    },
    {
     "data": {
      "image/png": "[encoded data removed]",
      "text/plain": [
       "<Figure size 576x432 with 1 Axes>"
      ]
     },
     "metadata": {},
     "output_type": "display_data"
    }
   ],
   "source": [
    "plt.figure(figsize=(8,6))\n",
    "sns.boxplot(x='Survived', y= 'Age', hue='Sex', data= train)"
   ]
  },
  {
   "cell_type": "code",
   "execution_count": 37,
   "metadata": {
    "execution": {
     "iopub.execute_input": "2020-12-30T08:33:13.583318Z",
     "iopub.status.busy": "2020-12-30T08:33:13.582734Z",
     "iopub.status.idle": "2020-12-30T08:33:13.800459Z",
     "shell.execute_reply": "2020-12-30T08:33:13.800949Z"
    },
    "papermill": {
     "duration": 0.290756,
     "end_time": "2020-12-30T08:33:13.801099",
     "exception": false,
     "start_time": "2020-12-30T08:33:13.510343",
     "status": "completed"
    },
    "tags": []
   },
   "outputs": [
    {
     "data": {
      "text/plain": [
       "<AxesSubplot:xlabel='Pclass', ylabel='Fare'>"
      ]
     },
     "execution_count": 37,
     "metadata": {},
     "output_type": "execute_result"
    },
    {
     "data": {
      "image/png": "[encoded data removed]",
      "text/plain": [
       "<Figure size 576x432 with 1 Axes>"
      ]
     },
     "metadata": {},
     "output_type": "display_data"
    }
   ],
   "source": [
    "plt.figure(figsize=(8,6))\n",
    "sns.boxplot(x='Pclass', y= 'Fare', data= train)"
   ]
  },
  {
   "cell_type": "markdown",
   "metadata": {
    "papermill": {
     "duration": 0.065721,
     "end_time": "2020-12-30T08:33:13.931505",
     "exception": false,
     "start_time": "2020-12-30T08:33:13.865784",
     "status": "completed"
    },
    "tags": []
   },
   "source": [
    "Fare is high in Pclass 1 compared to Pclass 2 and Pclass 3"
   ]
  },
  {
   "cell_type": "code",
   "execution_count": 38,
   "metadata": {
    "execution": {
     "iopub.execute_input": "2020-12-30T08:33:14.067783Z",
     "iopub.status.busy": "2020-12-30T08:33:14.067122Z",
     "iopub.status.idle": "2020-12-30T08:33:14.179581Z",
     "shell.execute_reply": "2020-12-30T08:33:14.180158Z"
    },
    "papermill": {
     "duration": 0.182087,
     "end_time": "2020-12-30T08:33:14.180328",
     "exception": false,
     "start_time": "2020-12-30T08:33:13.998241",
     "status": "completed"
    },
    "tags": []
   },
   "outputs": [
    {
     "data": {
      "text/plain": [
       "<AxesSubplot:xlabel='Sex', ylabel='count'>"
      ]
     },
     "execution_count": 38,
     "metadata": {},
     "output_type": "execute_result"
    },
    {
     "data": {
      "image/png": "[encoded data removed]",
      "text/plain": [
       "<Figure size 576x432 with 1 Axes>"
      ]
     },
     "metadata": {},
     "output_type": "display_data"
    }
   ],
   "source": [
    "plt.figure(figsize=(8,6))\n",
    "sns.countplot(x='Sex', data= test)"
   ]
  },
  {
   "cell_type": "code",
   "execution_count": 39,
   "metadata": {
    "execution": {
     "iopub.execute_input": "2020-12-30T08:33:14.318979Z",
     "iopub.status.busy": "2020-12-30T08:33:14.318314Z",
     "iopub.status.idle": "2020-12-30T08:33:14.466453Z",
     "shell.execute_reply": "2020-12-30T08:33:14.466949Z"
    },
    "papermill": {
     "duration": 0.218884,
     "end_time": "2020-12-30T08:33:14.467094",
     "exception": false,
     "start_time": "2020-12-30T08:33:14.248210",
     "status": "completed"
    },
    "tags": []
   },
   "outputs": [
    {
     "data": {
      "text/plain": [
       "<AxesSubplot:xlabel='Pclass', ylabel='Fare'>"
      ]
     },
     "execution_count": 39,
     "metadata": {},
     "output_type": "execute_result"
    },
    {
     "data": {
      "image/png": "[encoded data removed]",
      "text/plain": [
       "<Figure size 576x432 with 1 Axes>"
      ]
     },
     "metadata": {},
     "output_type": "display_data"
    }
   ],
   "source": [
    "plt.figure(figsize=(8,6))\n",
    "sns.boxplot(x='Pclass', y= 'Fare', data= test)"
   ]
  },
  {
   "cell_type": "markdown",
   "metadata": {
    "papermill": {
     "duration": 0.066225,
     "end_time": "2020-12-30T08:33:14.601352",
     "exception": false,
     "start_time": "2020-12-30T08:33:14.535127",
     "status": "completed"
    },
    "tags": []
   },
   "source": [
    "Check outliers in the data"
   ]
  },
  {
   "cell_type": "code",
   "execution_count": 40,
   "metadata": {
    "execution": {
     "iopub.execute_input": "2020-12-30T08:33:14.740001Z",
     "iopub.status.busy": "2020-12-30T08:33:14.739210Z",
     "iopub.status.idle": "2020-12-30T08:33:14.962792Z",
     "shell.execute_reply": "2020-12-30T08:33:14.963274Z"
    },
    "papermill": {
     "duration": 0.294026,
     "end_time": "2020-12-30T08:33:14.963432",
     "exception": false,
     "start_time": "2020-12-30T08:33:14.669406",
     "status": "completed"
    },
    "tags": []
   },
   "outputs": [
    {
     "data": {
      "text/plain": [
       "<AxesSubplot:>"
      ]
     },
     "execution_count": 40,
     "metadata": {},
     "output_type": "execute_result"
    },
    {
     "data": {
      "image/png": "[encoded data removed]",
      "text/plain": [
       "<Figure size 720x576 with 1 Axes>"
      ]
     },
     "metadata": {},
     "output_type": "display_data"
    }
   ],
   "source": [
    "\n",
    "train.plot(kind='box', figsize= (10,8))\n"
   ]
  },
  {
   "cell_type": "markdown",
   "metadata": {
    "papermill": {
     "duration": 0.069267,
     "end_time": "2020-12-30T08:33:15.102514",
     "exception": false,
     "start_time": "2020-12-30T08:33:15.033247",
     "status": "completed"
    },
    "tags": []
   },
   "source": [
    "There are outliers in Age, SibSp, Parch and Fare variables. I am using clip() funtion to remove the outliers. Parch variable is removed because more than 75% of the values are 0."
   ]
  },
  {
   "cell_type": "code",
   "execution_count": 41,
   "metadata": {
    "execution": {
     "iopub.execute_input": "2020-12-30T08:33:15.243434Z",
     "iopub.status.busy": "2020-12-30T08:33:15.242841Z",
     "iopub.status.idle": "2020-12-30T08:33:15.260822Z",
     "shell.execute_reply": "2020-12-30T08:33:15.261330Z"
    },
    "papermill": {
     "duration": 0.089364,
     "end_time": "2020-12-30T08:33:15.261472",
     "exception": false,
     "start_time": "2020-12-30T08:33:15.172108",
     "status": "completed"
    },
    "tags": []
   },
   "outputs": [],
   "source": [
    "cols= ['Age', 'SibSp', 'Parch', 'Fare']\n",
    "\n",
    "train[cols]= train[cols].clip(lower= train[cols].quantile(0.15), upper= train[cols].quantile(0.85), axis=1)\n",
    "\n",
    "train.drop(columns=['Parch'], axis=1, inplace=True)"
   ]
  },
  {
   "cell_type": "code",
   "execution_count": 42,
   "metadata": {
    "execution": {
     "iopub.execute_input": "2020-12-30T08:33:15.400812Z",
     "iopub.status.busy": "2020-12-30T08:33:15.400164Z",
     "iopub.status.idle": "2020-12-30T08:33:15.582723Z",
     "shell.execute_reply": "2020-12-30T08:33:15.582180Z"
    },
    "papermill": {
     "duration": 0.253796,
     "end_time": "2020-12-30T08:33:15.582830",
     "exception": false,
     "start_time": "2020-12-30T08:33:15.329034",
     "status": "completed"
    },
    "tags": []
   },
   "outputs": [
    {
     "data": {
      "text/plain": [
       "<AxesSubplot:>"
      ]
     },
     "execution_count": 42,
     "metadata": {},
     "output_type": "execute_result"
    },
    {
     "data": {
      "image/png": "[encoded data removed]",
      "text/plain": [
       "<Figure size 720x576 with 1 Axes>"
      ]
     },
     "metadata": {},
     "output_type": "display_data"
    }
   ],
   "source": [
    "train.plot(kind='box', figsize= (10,8)) \n"
   ]
  },
  {
   "cell_type": "markdown",
   "metadata": {
    "papermill": {
     "duration": 0.070389,
     "end_time": "2020-12-30T08:33:15.722117",
     "exception": false,
     "start_time": "2020-12-30T08:33:15.651728",
     "status": "completed"
    },
    "tags": []
   },
   "source": [
    "There are no outliers in the train dataset"
   ]
  },
  {
   "cell_type": "code",
   "execution_count": 43,
   "metadata": {
    "execution": {
     "iopub.execute_input": "2020-12-30T08:33:15.882549Z",
     "iopub.status.busy": "2020-12-30T08:33:15.879196Z",
     "iopub.status.idle": "2020-12-30T08:33:16.053500Z",
     "shell.execute_reply": "2020-12-30T08:33:16.052999Z"
    },
    "papermill": {
     "duration": 0.258741,
     "end_time": "2020-12-30T08:33:16.053623",
     "exception": false,
     "start_time": "2020-12-30T08:33:15.794882",
     "status": "completed"
    },
    "tags": []
   },
   "outputs": [
    {
     "data": {
      "text/plain": [
       "<AxesSubplot:>"
      ]
     },
     "execution_count": 43,
     "metadata": {},
     "output_type": "execute_result"
    },
    {
     "data": {
      "image/png": "[encoded data removed]",
      "text/plain": [
       "<Figure size 720x576 with 1 Axes>"
      ]
     },
     "metadata": {},
     "output_type": "display_data"
    }
   ],
   "source": [
    "test.plot(kind='box', figsize= (10,8))\n"
   ]
  },
  {
   "cell_type": "markdown",
   "metadata": {
    "papermill": {
     "duration": 0.070067,
     "end_time": "2020-12-30T08:33:16.193854",
     "exception": false,
     "start_time": "2020-12-30T08:33:16.123787",
     "status": "completed"
    },
    "tags": []
   },
   "source": [
    "There are outliers in Age, SibSp, Parch and Fare variables. clip() funtion is used to remove the outliers. Parch variable is removed because more than 75% of the values are 0."
   ]
  },
  {
   "cell_type": "code",
   "execution_count": 44,
   "metadata": {
    "execution": {
     "iopub.execute_input": "2020-12-30T08:33:16.344496Z",
     "iopub.status.busy": "2020-12-30T08:33:16.343793Z",
     "iopub.status.idle": "2020-12-30T08:33:16.356618Z",
     "shell.execute_reply": "2020-12-30T08:33:16.357083Z"
    },
    "papermill": {
     "duration": 0.091764,
     "end_time": "2020-12-30T08:33:16.357277",
     "exception": false,
     "start_time": "2020-12-30T08:33:16.265513",
     "status": "completed"
    },
    "tags": []
   },
   "outputs": [],
   "source": [
    "test[cols]= test[cols].clip(lower= test[cols].quantile(0.15), upper= test[cols].quantile(0.85), axis=1)\n",
    "\n",
    "test.drop(columns=['Parch'], axis=1, inplace=True)"
   ]
  },
  {
   "cell_type": "code",
   "execution_count": 45,
   "metadata": {
    "execution": {
     "iopub.execute_input": "2020-12-30T08:33:16.497752Z",
     "iopub.status.busy": "2020-12-30T08:33:16.497059Z",
     "iopub.status.idle": "2020-12-30T08:33:16.663052Z",
     "shell.execute_reply": "2020-12-30T08:33:16.663550Z"
    },
    "papermill": {
     "duration": 0.237718,
     "end_time": "2020-12-30T08:33:16.663684",
     "exception": false,
     "start_time": "2020-12-30T08:33:16.425966",
     "status": "completed"
    },
    "tags": []
   },
   "outputs": [
    {
     "data": {
      "text/plain": [
       "<AxesSubplot:>"
      ]
     },
     "execution_count": 45,
     "metadata": {},
     "output_type": "execute_result"
    },
    {
     "data": {
      "image/png": "[encoded data removed]",
      "text/plain": [
       "<Figure size 720x576 with 1 Axes>"
      ]
     },
     "metadata": {},
     "output_type": "display_data"
    }
   ],
   "source": [
    "test.plot(kind='box', figsize= (10,8))  \n"
   ]
  },
  {
   "cell_type": "markdown",
   "metadata": {
    "papermill": {
     "duration": 0.071476,
     "end_time": "2020-12-30T08:33:16.805819",
     "exception": false,
     "start_time": "2020-12-30T08:33:16.734343",
     "status": "completed"
    },
    "tags": []
   },
   "source": [
    "There are no outliers in the test dataset"
   ]
  },
  {
   "cell_type": "markdown",
   "metadata": {
    "papermill": {
     "duration": 0.072649,
     "end_time": "2020-12-30T08:33:16.951131",
     "exception": false,
     "start_time": "2020-12-30T08:33:16.878482",
     "status": "completed"
    },
    "tags": []
   },
   "source": [
    "One Hot Encoding is used to convert categorical data into numerical data.\n"
   ]
  },
  {
   "cell_type": "code",
   "execution_count": 46,
   "metadata": {
    "execution": {
     "iopub.execute_input": "2020-12-30T08:33:17.097258Z",
     "iopub.status.busy": "2020-12-30T08:33:17.096633Z",
     "iopub.status.idle": "2020-12-30T08:33:17.111890Z",
     "shell.execute_reply": "2020-12-30T08:33:17.112373Z"
    },
    "papermill": {
     "duration": 0.089576,
     "end_time": "2020-12-30T08:33:17.112532",
     "exception": false,
     "start_time": "2020-12-30T08:33:17.022956",
     "status": "completed"
    },
    "tags": []
   },
   "outputs": [],
   "source": [
    "\n",
    "train= pd.get_dummies(train, columns=['Pclass', 'Sex', 'Embarked' ], drop_first= True)\n",
    "\n",
    "test= pd.get_dummies(test, columns=['Pclass', 'Sex', 'Embarked' ], drop_first= True)"
   ]
  },
  {
   "cell_type": "code",
   "execution_count": 47,
   "metadata": {
    "execution": {
     "iopub.execute_input": "2020-12-30T08:33:17.260659Z",
     "iopub.status.busy": "2020-12-30T08:33:17.260035Z",
     "iopub.status.idle": "2020-12-30T08:33:17.274556Z",
     "shell.execute_reply": "2020-12-30T08:33:17.275013Z"
    },
    "papermill": {
     "duration": 0.089219,
     "end_time": "2020-12-30T08:33:17.275138",
     "exception": false,
     "start_time": "2020-12-30T08:33:17.185919",
     "status": "completed"
    },
    "tags": []
   },
   "outputs": [
    {
     "data": {
      "text/html": [
       "<div>\n",
       "<style scoped>\n",
       "    .dataframe tbody tr th:only-of-type {\n",
       "        vertical-align: middle;\n",
       "    }\n",
       "\n",
       "    .dataframe tbody tr th {\n",
       "        vertical-align: top;\n",
       "    }\n",
       "\n",
       "    .dataframe thead th {\n",
       "        text-align: right;\n",
       "    }\n",
       "</style>\n",
       "<table border=\"1\" class=\"dataframe\">\n",
       "  <thead>\n",
       "    <tr style=\"text-align: right;\">\n",
       "      <th></th>\n",
       "      <th>Survived</th>\n",
       "      <th>Age</th>\n",
       "      <th>SibSp</th>\n",
       "      <th>Fare</th>\n",
       "      <th>Pclass_2</th>\n",
       "      <th>Pclass_3</th>\n",
       "      <th>Sex_male</th>\n",
       "      <th>Embarked_Q</th>\n",
       "      <th>Embarked_S</th>\n",
       "    </tr>\n",
       "  </thead>\n",
       "  <tbody>\n",
       "    <tr>\n",
       "      <th>0</th>\n",
       "      <td>0</td>\n",
       "      <td>22.0</td>\n",
       "      <td>1</td>\n",
       "      <td>7.7500</td>\n",
       "      <td>0</td>\n",
       "      <td>1</td>\n",
       "      <td>1</td>\n",
       "      <td>0</td>\n",
       "      <td>1</td>\n",
       "    </tr>\n",
       "    <tr>\n",
       "      <th>1</th>\n",
       "      <td>1</td>\n",
       "      <td>38.0</td>\n",
       "      <td>1</td>\n",
       "      <td>56.4958</td>\n",
       "      <td>0</td>\n",
       "      <td>0</td>\n",
       "      <td>0</td>\n",
       "      <td>0</td>\n",
       "      <td>0</td>\n",
       "    </tr>\n",
       "    <tr>\n",
       "      <th>2</th>\n",
       "      <td>1</td>\n",
       "      <td>26.0</td>\n",
       "      <td>0</td>\n",
       "      <td>7.9250</td>\n",
       "      <td>0</td>\n",
       "      <td>1</td>\n",
       "      <td>0</td>\n",
       "      <td>0</td>\n",
       "      <td>1</td>\n",
       "    </tr>\n",
       "    <tr>\n",
       "      <th>3</th>\n",
       "      <td>1</td>\n",
       "      <td>35.0</td>\n",
       "      <td>1</td>\n",
       "      <td>53.1000</td>\n",
       "      <td>0</td>\n",
       "      <td>0</td>\n",
       "      <td>0</td>\n",
       "      <td>0</td>\n",
       "      <td>1</td>\n",
       "    </tr>\n",
       "    <tr>\n",
       "      <th>4</th>\n",
       "      <td>0</td>\n",
       "      <td>35.0</td>\n",
       "      <td>0</td>\n",
       "      <td>8.0500</td>\n",
       "      <td>0</td>\n",
       "      <td>1</td>\n",
       "      <td>1</td>\n",
       "      <td>0</td>\n",
       "      <td>1</td>\n",
       "    </tr>\n",
       "  </tbody>\n",
       "</table>\n",
       "</div>"
      ],
      "text/plain": [
       "   Survived   Age  SibSp     Fare  Pclass_2  Pclass_3  Sex_male  Embarked_Q  \\\n",
       "0         0  22.0      1   7.7500         0         1         1           0   \n",
       "1         1  38.0      1  56.4958         0         0         0           0   \n",
       "2         1  26.0      0   7.9250         0         1         0           0   \n",
       "3         1  35.0      1  53.1000         0         0         0           0   \n",
       "4         0  35.0      0   8.0500         0         1         1           0   \n",
       "\n",
       "   Embarked_S  \n",
       "0           1  \n",
       "1           0  \n",
       "2           1  \n",
       "3           1  \n",
       "4           1  "
      ]
     },
     "execution_count": 47,
     "metadata": {},
     "output_type": "execute_result"
    }
   ],
   "source": [
    "train.head()"
   ]
  },
  {
   "cell_type": "code",
   "execution_count": 48,
   "metadata": {
    "execution": {
     "iopub.execute_input": "2020-12-30T08:33:17.424437Z",
     "iopub.status.busy": "2020-12-30T08:33:17.423748Z",
     "iopub.status.idle": "2020-12-30T08:33:17.436139Z",
     "shell.execute_reply": "2020-12-30T08:33:17.435672Z"
    },
    "papermill": {
     "duration": 0.088166,
     "end_time": "2020-12-30T08:33:17.436244",
     "exception": false,
     "start_time": "2020-12-30T08:33:17.348078",
     "status": "completed"
    },
    "tags": []
   },
   "outputs": [
    {
     "data": {
      "text/html": [
       "<div>\n",
       "<style scoped>\n",
       "    .dataframe tbody tr th:only-of-type {\n",
       "        vertical-align: middle;\n",
       "    }\n",
       "\n",
       "    .dataframe tbody tr th {\n",
       "        vertical-align: top;\n",
       "    }\n",
       "\n",
       "    .dataframe thead th {\n",
       "        text-align: right;\n",
       "    }\n",
       "</style>\n",
       "<table border=\"1\" class=\"dataframe\">\n",
       "  <thead>\n",
       "    <tr style=\"text-align: right;\">\n",
       "      <th></th>\n",
       "      <th>Survived</th>\n",
       "      <th>Age</th>\n",
       "      <th>SibSp</th>\n",
       "      <th>Fare</th>\n",
       "      <th>Pclass_2</th>\n",
       "      <th>Pclass_3</th>\n",
       "      <th>Sex_male</th>\n",
       "      <th>Embarked_Q</th>\n",
       "      <th>Embarked_S</th>\n",
       "    </tr>\n",
       "  </thead>\n",
       "  <tbody>\n",
       "    <tr>\n",
       "      <th>0</th>\n",
       "      <td>0</td>\n",
       "      <td>22.0</td>\n",
       "      <td>1</td>\n",
       "      <td>7.7500</td>\n",
       "      <td>0</td>\n",
       "      <td>1</td>\n",
       "      <td>1</td>\n",
       "      <td>0</td>\n",
       "      <td>1</td>\n",
       "    </tr>\n",
       "    <tr>\n",
       "      <th>1</th>\n",
       "      <td>1</td>\n",
       "      <td>38.0</td>\n",
       "      <td>1</td>\n",
       "      <td>56.4958</td>\n",
       "      <td>0</td>\n",
       "      <td>0</td>\n",
       "      <td>0</td>\n",
       "      <td>0</td>\n",
       "      <td>0</td>\n",
       "    </tr>\n",
       "    <tr>\n",
       "      <th>2</th>\n",
       "      <td>1</td>\n",
       "      <td>26.0</td>\n",
       "      <td>0</td>\n",
       "      <td>7.9250</td>\n",
       "      <td>0</td>\n",
       "      <td>1</td>\n",
       "      <td>0</td>\n",
       "      <td>0</td>\n",
       "      <td>1</td>\n",
       "    </tr>\n",
       "    <tr>\n",
       "      <th>3</th>\n",
       "      <td>1</td>\n",
       "      <td>35.0</td>\n",
       "      <td>1</td>\n",
       "      <td>53.1000</td>\n",
       "      <td>0</td>\n",
       "      <td>0</td>\n",
       "      <td>0</td>\n",
       "      <td>0</td>\n",
       "      <td>1</td>\n",
       "    </tr>\n",
       "    <tr>\n",
       "      <th>4</th>\n",
       "      <td>0</td>\n",
       "      <td>35.0</td>\n",
       "      <td>0</td>\n",
       "      <td>8.0500</td>\n",
       "      <td>0</td>\n",
       "      <td>1</td>\n",
       "      <td>1</td>\n",
       "      <td>0</td>\n",
       "      <td>1</td>\n",
       "    </tr>\n",
       "  </tbody>\n",
       "</table>\n",
       "</div>"
      ],
      "text/plain": [
       "   Survived   Age  SibSp     Fare  Pclass_2  Pclass_3  Sex_male  Embarked_Q  \\\n",
       "0         0  22.0      1   7.7500         0         1         1           0   \n",
       "1         1  38.0      1  56.4958         0         0         0           0   \n",
       "2         1  26.0      0   7.9250         0         1         0           0   \n",
       "3         1  35.0      1  53.1000         0         0         0           0   \n",
       "4         0  35.0      0   8.0500         0         1         1           0   \n",
       "\n",
       "   Embarked_S  \n",
       "0           1  \n",
       "1           0  \n",
       "2           1  \n",
       "3           1  \n",
       "4           1  "
      ]
     },
     "execution_count": 48,
     "metadata": {},
     "output_type": "execute_result"
    }
   ],
   "source": [
    "test.head()"
   ]
  },
  {
   "cell_type": "markdown",
   "metadata": {
    "papermill": {
     "duration": 0.071962,
     "end_time": "2020-12-30T08:33:17.579929",
     "exception": false,
     "start_time": "2020-12-30T08:33:17.507967",
     "status": "completed"
    },
    "tags": []
   },
   "source": [
    "Now, lets split the data."
   ]
  },
  {
   "cell_type": "code",
   "execution_count": 49,
   "metadata": {
    "execution": {
     "iopub.execute_input": "2020-12-30T08:33:17.737083Z",
     "iopub.status.busy": "2020-12-30T08:33:17.735938Z",
     "iopub.status.idle": "2020-12-30T08:33:17.739220Z",
     "shell.execute_reply": "2020-12-30T08:33:17.738717Z"
    },
    "papermill": {
     "duration": 0.086375,
     "end_time": "2020-12-30T08:33:17.739350",
     "exception": false,
     "start_time": "2020-12-30T08:33:17.652975",
     "status": "completed"
    },
    "tags": []
   },
   "outputs": [],
   "source": [
    "X_train= train.iloc[:, 1:]\n",
    "y_train= train['Survived'].values.reshape(-1,1)\n",
    "\n",
    "X_test= test"
   ]
  },
  {
   "cell_type": "markdown",
   "metadata": {
    "papermill": {
     "duration": 0.072758,
     "end_time": "2020-12-30T08:33:17.882879",
     "exception": false,
     "start_time": "2020-12-30T08:33:17.810121",
     "status": "completed"
    },
    "tags": []
   },
   "source": [
    "Feature Scaling is used to standardize the independent variables present in the data in a fixed range."
   ]
  },
  {
   "cell_type": "code",
   "execution_count": 50,
   "metadata": {
    "execution": {
     "iopub.execute_input": "2020-12-30T08:33:18.033848Z",
     "iopub.status.busy": "2020-12-30T08:33:18.033018Z",
     "iopub.status.idle": "2020-12-30T08:33:18.086341Z",
     "shell.execute_reply": "2020-12-30T08:33:18.085680Z"
    },
    "papermill": {
     "duration": 0.132182,
     "end_time": "2020-12-30T08:33:18.086459",
     "exception": false,
     "start_time": "2020-12-30T08:33:17.954277",
     "status": "completed"
    },
    "tags": []
   },
   "outputs": [],
   "source": [
    "from sklearn.preprocessing import StandardScaler\n",
    "ss= StandardScaler()"
   ]
  },
  {
   "cell_type": "code",
   "execution_count": 51,
   "metadata": {
    "execution": {
     "iopub.execute_input": "2020-12-30T08:33:18.242473Z",
     "iopub.status.busy": "2020-12-30T08:33:18.241818Z",
     "iopub.status.idle": "2020-12-30T08:33:18.257670Z",
     "shell.execute_reply": "2020-12-30T08:33:18.258209Z"
    },
    "papermill": {
     "duration": 0.097121,
     "end_time": "2020-12-30T08:33:18.258385",
     "exception": false,
     "start_time": "2020-12-30T08:33:18.161264",
     "status": "completed"
    },
    "tags": []
   },
   "outputs": [],
   "source": [
    "features= ['Age', 'SibSp', 'Fare']\n",
    "\n",
    "X_train[features]= ss.fit_transform(X_train[features])\n",
    "X_test[features]= ss.fit_transform(X_test[features])"
   ]
  },
  {
   "cell_type": "code",
   "execution_count": 52,
   "metadata": {
    "execution": {
     "iopub.execute_input": "2020-12-30T08:33:18.414848Z",
     "iopub.status.busy": "2020-12-30T08:33:18.414198Z",
     "iopub.status.idle": "2020-12-30T08:33:18.425660Z",
     "shell.execute_reply": "2020-12-30T08:33:18.426192Z"
    },
    "papermill": {
     "duration": 0.090736,
     "end_time": "2020-12-30T08:33:18.426370",
     "exception": false,
     "start_time": "2020-12-30T08:33:18.335634",
     "status": "completed"
    },
    "tags": []
   },
   "outputs": [
    {
     "data": {
      "text/html": [
       "<div>\n",
       "<style scoped>\n",
       "    .dataframe tbody tr th:only-of-type {\n",
       "        vertical-align: middle;\n",
       "    }\n",
       "\n",
       "    .dataframe tbody tr th {\n",
       "        vertical-align: top;\n",
       "    }\n",
       "\n",
       "    .dataframe thead th {\n",
       "        text-align: right;\n",
       "    }\n",
       "</style>\n",
       "<table border=\"1\" class=\"dataframe\">\n",
       "  <thead>\n",
       "    <tr style=\"text-align: right;\">\n",
       "      <th></th>\n",
       "      <th>Age</th>\n",
       "      <th>SibSp</th>\n",
       "      <th>Fare</th>\n",
       "      <th>Pclass_2</th>\n",
       "      <th>Pclass_3</th>\n",
       "      <th>Sex_male</th>\n",
       "      <th>Embarked_Q</th>\n",
       "      <th>Embarked_S</th>\n",
       "    </tr>\n",
       "  </thead>\n",
       "  <tbody>\n",
       "    <tr>\n",
       "      <th>0</th>\n",
       "      <td>-0.865086</td>\n",
       "      <td>1.465746</td>\n",
       "      <td>-0.853616</td>\n",
       "      <td>0</td>\n",
       "      <td>1</td>\n",
       "      <td>1</td>\n",
       "      <td>0</td>\n",
       "      <td>1</td>\n",
       "    </tr>\n",
       "    <tr>\n",
       "      <th>1</th>\n",
       "      <td>1.123252</td>\n",
       "      <td>1.465746</td>\n",
       "      <td>1.876088</td>\n",
       "      <td>0</td>\n",
       "      <td>0</td>\n",
       "      <td>0</td>\n",
       "      <td>0</td>\n",
       "      <td>0</td>\n",
       "    </tr>\n",
       "    <tr>\n",
       "      <th>2</th>\n",
       "      <td>-0.368001</td>\n",
       "      <td>-0.682247</td>\n",
       "      <td>-0.843816</td>\n",
       "      <td>0</td>\n",
       "      <td>1</td>\n",
       "      <td>0</td>\n",
       "      <td>0</td>\n",
       "      <td>1</td>\n",
       "    </tr>\n",
       "    <tr>\n",
       "      <th>3</th>\n",
       "      <td>0.750438</td>\n",
       "      <td>1.465746</td>\n",
       "      <td>1.685928</td>\n",
       "      <td>0</td>\n",
       "      <td>0</td>\n",
       "      <td>0</td>\n",
       "      <td>0</td>\n",
       "      <td>1</td>\n",
       "    </tr>\n",
       "    <tr>\n",
       "      <th>4</th>\n",
       "      <td>0.750438</td>\n",
       "      <td>-0.682247</td>\n",
       "      <td>-0.836817</td>\n",
       "      <td>0</td>\n",
       "      <td>1</td>\n",
       "      <td>1</td>\n",
       "      <td>0</td>\n",
       "      <td>1</td>\n",
       "    </tr>\n",
       "  </tbody>\n",
       "</table>\n",
       "</div>"
      ],
      "text/plain": [
       "        Age     SibSp      Fare  Pclass_2  Pclass_3  Sex_male  Embarked_Q  \\\n",
       "0 -0.865086  1.465746 -0.853616         0         1         1           0   \n",
       "1  1.123252  1.465746  1.876088         0         0         0           0   \n",
       "2 -0.368001 -0.682247 -0.843816         0         1         0           0   \n",
       "3  0.750438  1.465746  1.685928         0         0         0           0   \n",
       "4  0.750438 -0.682247 -0.836817         0         1         1           0   \n",
       "\n",
       "   Embarked_S  \n",
       "0           1  \n",
       "1           0  \n",
       "2           1  \n",
       "3           1  \n",
       "4           1  "
      ]
     },
     "execution_count": 52,
     "metadata": {},
     "output_type": "execute_result"
    }
   ],
   "source": [
    "X_train.head()"
   ]
  },
  {
   "cell_type": "code",
   "execution_count": 53,
   "metadata": {
    "execution": {
     "iopub.execute_input": "2020-12-30T08:33:18.586553Z",
     "iopub.status.busy": "2020-12-30T08:33:18.585567Z",
     "iopub.status.idle": "2020-12-30T08:33:18.589265Z",
     "shell.execute_reply": "2020-12-30T08:33:18.589867Z"
    },
    "papermill": {
     "duration": 0.08907,
     "end_time": "2020-12-30T08:33:18.590008",
     "exception": false,
     "start_time": "2020-12-30T08:33:18.500938",
     "status": "completed"
    },
    "tags": []
   },
   "outputs": [
    {
     "data": {
      "text/html": [
       "<div>\n",
       "<style scoped>\n",
       "    .dataframe tbody tr th:only-of-type {\n",
       "        vertical-align: middle;\n",
       "    }\n",
       "\n",
       "    .dataframe tbody tr th {\n",
       "        vertical-align: top;\n",
       "    }\n",
       "\n",
       "    .dataframe thead th {\n",
       "        text-align: right;\n",
       "    }\n",
       "</style>\n",
       "<table border=\"1\" class=\"dataframe\">\n",
       "  <thead>\n",
       "    <tr style=\"text-align: right;\">\n",
       "      <th></th>\n",
       "      <th>Age</th>\n",
       "      <th>SibSp</th>\n",
       "      <th>Fare</th>\n",
       "      <th>Pclass_2</th>\n",
       "      <th>Pclass_3</th>\n",
       "      <th>Sex_male</th>\n",
       "      <th>Embarked_Q</th>\n",
       "      <th>Embarked_S</th>\n",
       "    </tr>\n",
       "  </thead>\n",
       "  <tbody>\n",
       "    <tr>\n",
       "      <th>0</th>\n",
       "      <td>-0.865086</td>\n",
       "      <td>1.465746</td>\n",
       "      <td>-0.853616</td>\n",
       "      <td>0</td>\n",
       "      <td>1</td>\n",
       "      <td>1</td>\n",
       "      <td>0</td>\n",
       "      <td>1</td>\n",
       "    </tr>\n",
       "    <tr>\n",
       "      <th>1</th>\n",
       "      <td>1.123252</td>\n",
       "      <td>1.465746</td>\n",
       "      <td>1.876088</td>\n",
       "      <td>0</td>\n",
       "      <td>0</td>\n",
       "      <td>0</td>\n",
       "      <td>0</td>\n",
       "      <td>0</td>\n",
       "    </tr>\n",
       "    <tr>\n",
       "      <th>2</th>\n",
       "      <td>-0.368001</td>\n",
       "      <td>-0.682247</td>\n",
       "      <td>-0.843816</td>\n",
       "      <td>0</td>\n",
       "      <td>1</td>\n",
       "      <td>0</td>\n",
       "      <td>0</td>\n",
       "      <td>1</td>\n",
       "    </tr>\n",
       "    <tr>\n",
       "      <th>3</th>\n",
       "      <td>0.750438</td>\n",
       "      <td>1.465746</td>\n",
       "      <td>1.685928</td>\n",
       "      <td>0</td>\n",
       "      <td>0</td>\n",
       "      <td>0</td>\n",
       "      <td>0</td>\n",
       "      <td>1</td>\n",
       "    </tr>\n",
       "    <tr>\n",
       "      <th>4</th>\n",
       "      <td>0.750438</td>\n",
       "      <td>-0.682247</td>\n",
       "      <td>-0.836817</td>\n",
       "      <td>0</td>\n",
       "      <td>1</td>\n",
       "      <td>1</td>\n",
       "      <td>0</td>\n",
       "      <td>1</td>\n",
       "    </tr>\n",
       "  </tbody>\n",
       "</table>\n",
       "</div>"
      ],
      "text/plain": [
       "        Age     SibSp      Fare  Pclass_2  Pclass_3  Sex_male  Embarked_Q  \\\n",
       "0 -0.865086  1.465746 -0.853616         0         1         1           0   \n",
       "1  1.123252  1.465746  1.876088         0         0         0           0   \n",
       "2 -0.368001 -0.682247 -0.843816         0         1         0           0   \n",
       "3  0.750438  1.465746  1.685928         0         0         0           0   \n",
       "4  0.750438 -0.682247 -0.836817         0         1         1           0   \n",
       "\n",
       "   Embarked_S  \n",
       "0           1  \n",
       "1           0  \n",
       "2           1  \n",
       "3           1  \n",
       "4           1  "
      ]
     },
     "execution_count": 53,
     "metadata": {},
     "output_type": "execute_result"
    }
   ],
   "source": [
    "X_test.drop('Survived', axis = 1, inplace = True)\n",
    "X_test.head()\n"
   ]
  },
  {
   "cell_type": "code",
   "execution_count": 54,
   "metadata": {
    "execution": {
     "iopub.execute_input": "2020-12-30T08:33:18.742317Z",
     "iopub.status.busy": "2020-12-30T08:33:18.741425Z",
     "iopub.status.idle": "2020-12-30T08:33:18.906724Z",
     "shell.execute_reply": "2020-12-30T08:33:18.907402Z"
    },
    "papermill": {
     "duration": 0.242958,
     "end_time": "2020-12-30T08:33:18.907573",
     "exception": false,
     "start_time": "2020-12-30T08:33:18.664615",
     "status": "completed"
    },
    "tags": []
   },
   "outputs": [],
   "source": [
    "from sklearn.linear_model import LogisticRegression\n",
    "\n",
    "clf= LogisticRegression()\n",
    "\n",
    "clf.fit(X_train, y_train.ravel())\n",
    "\n",
    "predictions= clf.predict(X_test)"
   ]
  },
  {
   "cell_type": "code",
   "execution_count": 55,
   "metadata": {
    "execution": {
     "iopub.execute_input": "2020-12-30T08:33:19.075712Z",
     "iopub.status.busy": "2020-12-30T08:33:19.074860Z",
     "iopub.status.idle": "2020-12-30T08:33:19.078894Z",
     "shell.execute_reply": "2020-12-30T08:33:19.079790Z"
    },
    "papermill": {
     "duration": 0.087495,
     "end_time": "2020-12-30T08:33:19.079983",
     "exception": false,
     "start_time": "2020-12-30T08:33:18.992488",
     "status": "completed"
    },
    "tags": []
   },
   "outputs": [
    {
     "name": "stdout",
     "output_type": "stream",
     "text": [
      "0.792368125701459\n"
     ]
    }
   ],
   "source": [
    "print(clf.score(X_train, y_train))\n"
   ]
  },
  {
   "cell_type": "code",
   "execution_count": 56,
   "metadata": {
    "execution": {
     "iopub.execute_input": "2020-12-30T08:33:19.236577Z",
     "iopub.status.busy": "2020-12-30T08:33:19.235951Z",
     "iopub.status.idle": "2020-12-30T08:33:19.244329Z",
     "shell.execute_reply": "2020-12-30T08:33:19.244813Z"
    },
    "papermill": {
     "duration": 0.087776,
     "end_time": "2020-12-30T08:33:19.244936",
     "exception": false,
     "start_time": "2020-12-30T08:33:19.157160",
     "status": "completed"
    },
    "tags": []
   },
   "outputs": [
    {
     "name": "stdout",
     "output_type": "stream",
     "text": [
      "   PassengerId  Survived\n",
      "0            1         0\n",
      "1            2         1\n",
      "2            3         1\n",
      "3            4         1\n",
      "4            5         0\n"
     ]
    }
   ],
   "source": [
    "submission= pd.DataFrame({'PassengerId' : test_df['PassengerId'], 'Survived': predictions })\n",
    "\n",
    "print(submission.head())"
   ]
  }
 ],
 "metadata": {
  "kernelspec": {
   "display_name": "Python 3",
   "language": "python",
   "name": "python3"
  },
  "language_info": {
   "codemirror_mode": {
    "name": "ipython",
    "version": 3
   },
   "file_extension": ".py",
   "mimetype": "text/x-python",
   "name": "python",
   "nbconvert_exporter": "python",
   "pygments_lexer": "ipython3",
   "version": "3.8.5"
  },
  "papermill": {
   "duration": 18.748201,
   "end_time": "2020-12-30T08:33:20.116288",
   "environment_variables": {},
   "exception": null,
   "input_path": "__notebook__.ipynb",
   "output_path": "__notebook__.ipynb",
   "parameters": {},
   "start_time": "2020-12-30T08:33:01.368087",
   "version": "2.1.0"
  }
 },
 "nbformat": 4,
 "nbformat_minor": 4
}
